{
 "cells": [
  {
   "cell_type": "code",
   "execution_count": null,
   "id": "835096e3-bf1c-4561-9afe-330fdd0b6f8f",
   "metadata": {},
   "outputs": [],
   "source": [
    "#pip install pandas nltk transformers scikit-learn flask\n",
    "\n",
    "#import pandas as pd\n",
    "#from sklearn.feature_extraction.text import TfidfVectorizer\n",
    "#from sklearn.metrics.pairwise import cosine_similarity\n",
    "\n",
    "#Load the dataset\n",
    "#bible_df = pd.read_csv(\"bible_verses.csv\")  # Ensure this file contains 'Verse' column\n",
    "\n",
    "#bible_df.columns = bible_df.columns.str.lower()\n",
    "#bible_df['verse'] = bible_df['verse'].fillna(\"\")\n",
    "#print(bible_df.head())\n",
    "\n",
    "#Vectorize the text\n",
    "#vectorizer = TfidfVectorizer()\n",
    "\n",
    "#verse_vectors = vectorizer.fit_transform(bible_df['verse'])\n",
    "\n",
    "#print(\"Vectorization complete!\")"
   ]
  },
  {
   "cell_type": "code",
   "execution_count": null,
   "id": "62aafb31-3ccd-4ff1-812d-2da84e7230a2",
   "metadata": {},
   "outputs": [],
   "source": [
    "import pandas as pd\n",
    "from sklearn.feature_extraction.text import TfidfVectorizer\n",
    "\n",
    "# Load dataset\n",
    "try:\n",
    "    bible_df = pd.read_csv(\"bible_verses.csv\")  # Ensure this file exists\n",
    "except FileNotFoundError:\n",
    "    print(\"Error: The file 'bible_verses.csv' was not found. Please check the file path.\")\n",
    "\n",
    "# Convert column names to lowercase\n",
    "bible_df.columns = bible_df.columns.str.lower()\n",
    "\n",
    "# Print column names to verify\n",
    "print(\"Available columns:\", bible_df.columns)\n",
    "\n",
    "# Ensure 'verse' column exists\n",
    "if 'verse' in bible_df.columns:\n",
    "    # Fill NaN values in the verse column\n",
    "    bible_df['verse'] = bible_df['verse'].fillna(\"\")\n",
    "\n",
    "    # Initialize vectorizer\n",
    "    vectorizer = TfidfVectorizer()\n",
    "\n",
    "    # Vectorize the verse text\n",
    "    verse_vectors = vectorizer.fit_transform(bible_df['verse'])\n",
    "\n",
    "    print(\"Vectorization complete!\")\n",
    "else:\n",
    "    print(\"Error: Column 'verse' not found in dataset. Check column names.\")"
   ]
  },
  {
   "cell_type": "code",
   "execution_count": null,
   "id": "82f37fa6-700e-4388-b43b-943402c9cac0",
   "metadata": {},
   "outputs": [],
   "source": [
    "print(\"Available columns:\", bible_df.columns)"
   ]
  },
  {
   "cell_type": "code",
   "execution_count": null,
   "id": "20e22e36-142b-446c-9867-d435c6f04607",
   "metadata": {},
   "outputs": [],
   "source": [
    "print(vectorizer)"
   ]
  },
  {
   "cell_type": "code",
   "execution_count": null,
   "id": "902c1d73-ae7f-476c-8570-0106c82acd8c",
   "metadata": {},
   "outputs": [],
   "source": [
    "import pandas as pd\n",
    "\n",
    "# Check if bible_df exists\n",
    "try:\n",
    "    print(\"DataFrame Info:\")\n",
    "    print(bible_df.info())\n",
    "    print(\"\\nFirst few rows:\")\n",
    "    print(bible_df.head())\n",
    "except NameError:\n",
    "    print(\"Error: bible_df is not defined. Run the data loading cell first.\")\n",
    "\n",
    "# Check if vectorizer exists\n",
    "try:\n",
    "    print(\"\\nVectorizer:\")\n",
    "    print(vectorizer)\n",
    "except NameError:\n",
    "    print(\"Error: vectorizer is not defined. Run the vectorization cell first.\")\n",
    "    "
   ]
  },
  {
   "cell_type": "code",
   "execution_count": 1,
   "id": "278cf507-5845-4b42-a22e-fb706e68c2d2",
   "metadata": {},
   "outputs": [
    {
     "name": "stdout",
     "output_type": "stream",
     "text": [
      "Vectorization complete!\n"
     ]
    }
   ],
   "source": [
    "import pandas as pd\n",
    "from sklearn.feature_extraction.text import TfidfVectorizer\n",
    "\n",
    "# Load dataset\n",
    "bible_df = pd.read_csv(\"bible_verses.csv\")\n",
    "\n",
    "# Convert column names to lowercase\n",
    "bible_df.columns = bible_df.columns.str.lower()\n",
    "\n",
    "# Ensure 'text' column exists and has no NaN values\n",
    "bible_df['text'] = bible_df['text'].fillna(\"\")\n",
    "\n",
    "# Initialize vectorizer\n",
    "vectorizer = TfidfVectorizer()\n",
    "\n",
    "# Vectorize the verse text\n",
    "verse_vectors = vectorizer.fit_transform(bible_df['text'])\n",
    "\n",
    "print(\"Vectorization complete!\")"
   ]
  },
  {
   "cell_type": "code",
   "execution_count": 3,
   "id": "fd7dfc07-9567-41c6-97f4-30a4f326d753",
   "metadata": {},
   "outputs": [],
   "source": [
    "def find_relevant_verses(user_input):\n",
    "    user_vector = vectorizer.transform([user_input])\n",
    "    similarities = cosine_similarity(user_vector, verse_vectors).flatten()\n",
    "    top_indices = similarities.argsort()[-5:][::-1]  # Top 5 verses\n",
    "    return bible_df.iloc[top_indices][['text']]"
   ]
  },
  {
   "cell_type": "code",
   "execution_count": 11,
   "id": "50653532-1018-4bb5-9465-0a2ac52c880a",
   "metadata": {},
   "outputs": [],
   "source": [
    "from sklearn.metrics.pairwise import cosine_similarity"
   ]
  },
  {
   "cell_type": "code",
   "execution_count": 15,
   "id": "dda38879-a159-422f-98f5-f2429cca42d7",
   "metadata": {},
   "outputs": [
    {
     "name": "stdout",
     "output_type": "stream",
     "text": [
      "                                                    text\n",
      "25765          And they said, The Lord hath need of him.\n",
      "29612  But concerning love of the brethren ye have no...\n",
      "25178  And if ye love them that love you, what thank ...\n",
      "28655  And the eye cannot say to the hand, I have no ...\n",
      "23613  But Jesus said unto them, They have no need to...\n"
     ]
    }
   ],
   "source": [
    "scenario = \"I need love\"\n",
    "print(find_relevant_verses(scenario))"
   ]
  },
  {
   "cell_type": "code",
   "execution_count": null,
   "id": "2c0c61ca-e043-4f47-a66f-a483c3bd04f1",
   "metadata": {},
   "outputs": [],
   "source": []
  }
 ],
 "metadata": {
  "kernelspec": {
   "display_name": "Python 3 (ipykernel)",
   "language": "python",
   "name": "python3"
  },
  "language_info": {
   "codemirror_mode": {
    "name": "ipython",
    "version": 3
   },
   "file_extension": ".py",
   "mimetype": "text/x-python",
   "name": "python",
   "nbconvert_exporter": "python",
   "pygments_lexer": "ipython3",
   "version": "3.12.7"
  }
 },
 "nbformat": 4,
 "nbformat_minor": 5
}
